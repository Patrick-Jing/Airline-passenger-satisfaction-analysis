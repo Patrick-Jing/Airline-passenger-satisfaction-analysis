{
 "cells": [
  {
   "cell_type": "markdown",
   "metadata": {},
   "source": [
    "# 航空乘客满意度数据分析与可视化\n",
    "本分析基于airline_passenger_satisfaction.csv数据，展示各满意度指标分布及自变量与满意度（Satisfaction）之间的相关性。代码可直接部署于Streamlit。"
   ]
  },
  {
   "cell_type": "code",
   "execution_count": null,
   "metadata": {},
   "outputs": [],
   "source": [
    "import pandas as pd\n",
    "import numpy as np\n",
    "import matplotlib.pyplot as plt\n",
    "import seaborn as sns\n",
    "import streamlit as st\n",
    "\n",
    "plt.rcParams['font.sans-serif'] = ['SimHei']  # 设置为黑体或其他支持中文的字体\n",
    "plt.rcParams['axes.unicode_minus'] = False    # 正确显示负号\n",
    "\n",
    "# 读取数据\n",
    "df = pd.read_csv('airline_passenger_satisfaction.csv')\n",
    "st.title('航空乘客满意度数据分析')\n",
    "st.write('数据总量：', df.shape[0])\n",
    "st.write('字段：', list(df.columns))"
   ]
  },
  {
   "cell_type": "markdown",
   "metadata": {},
   "source": [
    "## 1. 满意度分布情况"
   ]
  },
  {
   "cell_type": "code",
   "execution_count": null,
   "metadata": {},
   "outputs": [],
   "source": [
    "fig1, ax1 = plt.subplots()\n",
    "sns.countplot(x='Satisfaction', data=df, ax=ax1)\n",
    "ax1.set_title('满意度分布')\n",
    "st.pyplot(fig1)"
   ]
  },
  {
   "cell_type": "markdown",
   "metadata": {},
   "source": [
    "## 2. 各满意度指标分布"
   ]
  },
  {
   "cell_type": "code",
   "execution_count": null,
   "metadata": {},
   "outputs": [],
   "source": [
    "metrics = ['Departure and Arrival Time Convenience','Ease of Online Booking','Check-in Service','Online Boarding','Gate Location','On-board Service','Seat Comfort','Leg Room Service','Cleanliness','Food and Drink','In-flight Service','In-flight Wifi Service','In-flight Entertainment','Baggage Handling']\n",
    "for metric in metrics:\n",
    "    fig, ax = plt.subplots()\n",
    "    sns.histplot(df[metric], bins=6, kde=False, ax=ax)\n",
    "    ax.set_title(f'{metric} 分布')\n",
    "    st.pyplot(fig)"
   ]
  },
  {
   "cell_type": "markdown",
   "metadata": {},
   "source": [
    "## 3. 各自变量与满意度的相关性分析"
   ]
  },
  {
   "cell_type": "code",
   "execution_count": null,
   "metadata": {},
   "outputs": [],
   "source": [
    "corr_metrics = metrics + ['Age','Flight Distance','Departure Delay','Arrival Delay']\n",
    "df_corr = df.copy()\n",
    "df_corr['Satisfaction_num'] = df_corr['Satisfaction'].map({'Satisfied':1, 'Neutral or Dissatisfied':0})\n",
    "corrs = df_corr[corr_metrics + ['Satisfaction_num']].corr()['Satisfaction_num'].sort_values(ascending=False)\n",
    "st.write('各指标与满意度相关性：')\n",
    "st.write(corrs)\n",
    "fig2, ax2 = plt.subplots(figsize=(8,10))\n",
    "sns.heatmap(df_corr[corr_metrics + ['Satisfaction_num']].corr(), annot=True, cmap='coolwarm', ax=ax2)\n",
    "ax2.set_title('相关性热力图')\n",
    "st.pyplot(fig2)"
   ]
  },
  {
   "cell_type": "markdown",
   "metadata": {},
   "source": [
    "## 4. 结论与建议\n",
    "- 满意度分布可见大部分乘客为满意或中立/不满意。\n",
    "- 各服务指标与满意度相关性不同，可据此优化服务重点。\n",
    "- 可进一步细分分析不同客户类型、舱位等对满意度的影响。"
   ]
  }
 ],
 "metadata": {
  "kernelspec": {
   "display_name": "Python 3",
   "language": "python",
   "name": "python3"
  },
  "language_info": {
   "codemirror_mode": {
    "name": "ipython",
    "version": 3
   },
   "file_extension": ".py",
   "mimetype": "text/x-python",
   "name": "python",
   "nbconvert_exporter": "python",
   "pygments_lexer": "ipython3",
   "version": "3.13.2"
  }
 },
 "nbformat": 4,
 "nbformat_minor": 2
}
